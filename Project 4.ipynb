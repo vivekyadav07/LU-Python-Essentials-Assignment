{
 "cells": [
  {
   "cell_type": "markdown",
   "metadata": {},
   "source": [
    "# fire base"
   ]
  },
  {
   "cell_type": "code",
   "execution_count": 24,
   "metadata": {},
   "outputs": [],
   "source": [
    "import firebase_admin"
   ]
  },
  {
   "cell_type": "code",
   "execution_count": 25,
   "metadata": {},
   "outputs": [],
   "source": [
    "from firebase_admin import credentials\n",
    "from firebase_admin import firestore"
   ]
  },
  {
   "cell_type": "code",
   "execution_count": 26,
   "metadata": {},
   "outputs": [
    {
     "ename": "ValueError",
     "evalue": "The default Firebase app already exists. This means you called initialize_app() more than once without providing an app name as the second argument. In most cases you only need to call initialize_app() once. But if you do want to initialize multiple apps, pass a second argument to initialize_app() to give each app a unique name.",
     "output_type": "error",
     "traceback": [
      "\u001b[0;31m---------------------------------------------------------------------------\u001b[0m",
      "\u001b[0;31mValueError\u001b[0m                                Traceback (most recent call last)",
      "\u001b[0;32m<ipython-input-26-ceb3acf1189b>\u001b[0m in \u001b[0;36m<module>\u001b[0;34m\u001b[0m\n\u001b[1;32m      1\u001b[0m \u001b[0mcred\u001b[0m \u001b[0;34m=\u001b[0m \u001b[0mcredentials\u001b[0m\u001b[0;34m.\u001b[0m\u001b[0mCertificate\u001b[0m\u001b[0;34m(\u001b[0m\u001b[0;34m\"vivek-c4e9a-firebase-adminsdk-g1s2j-aa04e1b704.json\"\u001b[0m\u001b[0;34m)\u001b[0m\u001b[0;34m\u001b[0m\u001b[0;34m\u001b[0m\u001b[0m\n\u001b[0;32m----> 2\u001b[0;31m \u001b[0mfirebase_admin\u001b[0m\u001b[0;34m.\u001b[0m\u001b[0minitialize_app\u001b[0m\u001b[0;34m(\u001b[0m\u001b[0mcred\u001b[0m\u001b[0;34m)\u001b[0m\u001b[0;34m\u001b[0m\u001b[0;34m\u001b[0m\u001b[0m\n\u001b[0m",
      "\u001b[0;32m~/.local/lib/python3.6/site-packages/firebase_admin/__init__.py\u001b[0m in \u001b[0;36minitialize_app\u001b[0;34m(credential, options, name)\u001b[0m\n\u001b[1;32m     70\u001b[0m     \u001b[0;32mif\u001b[0m \u001b[0mname\u001b[0m \u001b[0;34m==\u001b[0m \u001b[0m_DEFAULT_APP_NAME\u001b[0m\u001b[0;34m:\u001b[0m\u001b[0;34m\u001b[0m\u001b[0;34m\u001b[0m\u001b[0m\n\u001b[1;32m     71\u001b[0m         raise ValueError((\n\u001b[0;32m---> 72\u001b[0;31m             \u001b[0;34m'The default Firebase app already exists. This means you called '\u001b[0m\u001b[0;34m\u001b[0m\u001b[0;34m\u001b[0m\u001b[0m\n\u001b[0m\u001b[1;32m     73\u001b[0m             \u001b[0;34m'initialize_app() more than once without providing an app name as '\u001b[0m\u001b[0;34m\u001b[0m\u001b[0;34m\u001b[0m\u001b[0m\n\u001b[1;32m     74\u001b[0m             \u001b[0;34m'the second argument. In most cases you only need to call '\u001b[0m\u001b[0;34m\u001b[0m\u001b[0;34m\u001b[0m\u001b[0m\n",
      "\u001b[0;31mValueError\u001b[0m: The default Firebase app already exists. This means you called initialize_app() more than once without providing an app name as the second argument. In most cases you only need to call initialize_app() once. But if you do want to initialize multiple apps, pass a second argument to initialize_app() to give each app a unique name."
     ]
    }
   ],
   "source": [
    "cred = credentials.Certificate(\"vivek-c4e9a-firebase-adminsdk-g1s2j-aa04e1b704.json\")\n",
    "firebase_admin.initialize_app(cred)"
   ]
  },
  {
   "cell_type": "code",
   "execution_count": 27,
   "metadata": {},
   "outputs": [
    {
     "data": {
      "text/plain": [
       "update_time {\n",
       "  seconds: 1608313741\n",
       "  nanos: 579402000\n",
       "}"
      ]
     },
     "execution_count": 27,
     "metadata": {},
     "output_type": "execute_result"
    }
   ],
   "source": [
    "doc_ref = db.collection(u'users').document(u'alovelace')\n",
    "doc_ref.set({\n",
    "    u'first': u'Ada',\n",
    "    u'last': u'Lovelace',\n",
    "    u'born': 1815\n",
    "})\n",
    "  "
   ]
  },
  {
   "cell_type": "code",
   "execution_count": 38,
   "metadata": {},
   "outputs": [],
   "source": [
    "def enterDataInDB():\n",
    "   \n",
    "    doc_ref = db.collection(u'itme').document()\n",
    "    name=input(\"enter name-\")\n",
    "    lastName = input(\"enter last name\")\n",
    "    age=int(input(\"enter age\"))\n",
    "    dit ={}\n",
    "    dit[\"firstname\"]=name\n",
    "    dit[\"lastName\"]=lastName\n",
    "    dit[\"age\"]=age\n",
    "    \n",
    "    \n",
    "    doc_ref.set(dit)\n",
    "  \n",
    "\n",
    "\n"
   ]
  },
  {
   "cell_type": "code",
   "execution_count": 40,
   "metadata": {},
   "outputs": [
    {
     "name": "stdout",
     "output_type": "stream",
     "text": [
      "enter name-anshu\n",
      "enter last nameyadu\n",
      "enter age20\n"
     ]
    }
   ],
   "source": [
    "enterDataInDB()"
   ]
  },
  {
   "cell_type": "markdown",
   "metadata": {},
   "source": [
    "# reading data by firebase"
   ]
  },
  {
   "cell_type": "code",
   "execution_count": 43,
   "metadata": {},
   "outputs": [
    {
     "name": "stdout",
     "output_type": "stream",
     "text": [
      "iXV0Vt2nb5NbaJ6nOGdL => {'firstname': 'anshu', 'age': 20, 'lastName': 'yadu'}\n",
      "ID iXV0Vt2nb5NbaJ6nOGdL\n",
      "First Name None\n",
      "Larst Name yadu\n",
      "Age 20\n",
      "-------------\n",
      "-------------\n",
      "sEx3fBHDLFVRuY3cXRbx => {'firstname': 'vivek', 'lastName': 'yadav', 'age': 21}\n",
      "ID sEx3fBHDLFVRuY3cXRbx\n",
      "First Name None\n",
      "Larst Name yadav\n",
      "Age 21\n",
      "-------------\n",
      "-------------\n",
      "wJUhKaXGKKiRVkTc5tuU => {'firstname': 'vipul', 'age': 21, 'lastName': 'yadav'}\n",
      "ID wJUhKaXGKKiRVkTc5tuU\n",
      "First Name None\n",
      "Larst Name yadav\n",
      "Age 21\n",
      "-------------\n",
      "-------------\n"
     ]
    }
   ],
   "source": [
    "\n",
    "docs = db.collection(u'itme').stream()\n",
    "\n",
    "for doc in docs:\n",
    "    print(f'{doc.id} => {doc.to_dict()}')\n",
    "    \n",
    "    print(\"ID\",doc.id)\n",
    "    print(\"First Name\",doc.to_dict().get(\"firstName\"))\n",
    "    print(\"Larst Name\",doc.to_dict().get(\"lastName\"))\n",
    "    print(\"Age\",doc.to_dict().get(\"age\"))\n",
    "    print(\"-------------\")   \n",
    "    print(\"-------------\")   "
   ]
  },
  {
   "cell_type": "markdown",
   "metadata": {},
   "source": [
    "# update a entry"
   ]
  },
  {
   "cell_type": "code",
   "execution_count": 49,
   "metadata": {},
   "outputs": [],
   "source": [
    "def updatainfirebase(uid,updatedage):\n",
    "      doc_ref = db.collection(u'itme').document(uid)\n",
    "      \n",
    "      doc_ref.update({\"age\":updatedage})"
   ]
  },
  {
   "cell_type": "code",
   "execution_count": 50,
   "metadata": {},
   "outputs": [],
   "source": [
    "updatainfirebase(\"sEx3fBHDLFVRuY3cXRbx\",50)"
   ]
  },
  {
   "cell_type": "markdown",
   "metadata": {},
   "source": [
    "# delete data entry"
   ]
  },
  {
   "cell_type": "code",
   "execution_count": 51,
   "metadata": {},
   "outputs": [],
   "source": [
    "def deletedata(uid):\n",
    "    db.collection(u'itme').document(uid).delete()"
   ]
  },
  {
   "cell_type": "code",
   "execution_count": 52,
   "metadata": {},
   "outputs": [],
   "source": [
    "deletedata(\"iXV0Vt2nb5NbaJ6nOGdL\")"
   ]
  },
  {
   "cell_type": "code",
   "execution_count": null,
   "metadata": {},
   "outputs": [],
   "source": []
  }
 ],
 "metadata": {
  "kernelspec": {
   "display_name": "Python 3",
   "language": "python",
   "name": "python3"
  },
  "language_info": {
   "codemirror_mode": {
    "name": "ipython",
    "version": 3
   },
   "file_extension": ".py",
   "mimetype": "text/x-python",
   "name": "python",
   "nbconvert_exporter": "python",
   "pygments_lexer": "ipython3",
   "version": "3.6.9"
  }
 },
 "nbformat": 4,
 "nbformat_minor": 4
}
